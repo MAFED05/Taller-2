{
 "cells": [
  {
   "attachments": {},
   "cell_type": "markdown",
   "metadata": {},
   "source": [
    "Desarrollar un programa que ingrese un número flotante n y separe su parte entera de la parte decimal, y luego entrege los digitos tanto de la parte entera como de la decimal."
   ]
  },
  {
   "cell_type": "code",
   "execution_count": null,
   "metadata": {},
   "outputs": [],
   "source": [
    "# Solicitamos al usuario que ingrese un número flotante y lo convertimos en float\n",
    "numero = float(input(\"Ingrese un número flotante: \"))\n",
    "\n",
    "# Obtenemos la parte entera del número flotante utilizando la función int() y almacenamos en la variable parte_entera\n",
    "parte_entera = int(numero)\n",
    "\n",
    "# Obtenemos la parte decimal del número flotante restando la parte entera al número original y tomando el valor absoluto con la función abs()\n",
    "parte_decimal = abs(numero - parte_entera)\n",
    "\n",
    "# Imprimimos los dígitos de la parte entera del número\n",
    "print(\"Dígitos de la parte entera:\")\n",
    "# Convertimos la parte entera en una cadena y utilizamos un bucle for para imprimir cada dígito en una línea separada\n",
    "for digito in str(parte_entera):\n",
    "    print(digito)\n",
    "\n",
    "# Imprimimos los dígitos de la parte decimal del número\n",
    "print(\"Dígitos de la parte decimal:\")\n",
    "# Convertimos la parte decimal en una cadena, y utilizamos un bucle for para imprimir cada dígito de la parte decimal en una línea separada\n",
    "# Usamos [2:] para omitir los dos primeros caracteres '0.' en la parte decimal.\n",
    "for digito in str(parte_decimal)[2:]:\n",
    "    print(digito)\n"
   ]
  },
  {
   "attachments": {},
   "cell_type": "markdown",
   "metadata": {},
   "source": [
    "Diseñar una función que permita calcular una aproximación de la función coseno alrededor de 0 para cualquier valor x (real), utilizando los primeros n términos de la serie de Taylor. nota: use math para traer la función coseno y mostrar la diferencia entre el valor real y la aproximación. Con cuántos valores de la serie, se tienen errores del 10%, 1%, 0.1% y 0.001%.\n"
   ]
  },
  {
   "cell_type": "code",
   "execution_count": 1,
   "metadata": {},
   "outputs": [
    {
     "name": "stdout",
     "output_type": "stream",
     "text": [
      "real: 0.5253219888177297 aprox: -56.52386286546757 diff: 57.0491848542853 error_a: No suficiente para obtener un error de menos del 10% error_b: No suficiente para obtener un error de menos del 1% error_c: No suficiente para obtener un error de menos del 0.1% error_d: No suficiente para obtener un error de menos del 0.001%\n"
     ]
    }
   ],
   "source": [
    "import math\n",
    "def taller4(x:float, n:int) -> float:\n",
    "    real = math.cos(x)\n",
    "    aprox = 0\n",
    "    error_a = \"No suficiente para obtener un error de menos del 10%\"\n",
    "    error_b = \"No suficiente para obtener un error de menos del 1%\"\n",
    "    error_c = \"No suficiente para obtener un error de menos del 0.1%\"\n",
    "    error_d = \"No suficiente para obtener un error de menos del 0.001%\"\n",
    "    for i in range(n+1):\n",
    "        aprox += ((-1)**i) * (x**(2*i)) / (math.factorial(2*i))\n",
    "        if round(aprox, 5) == round(real, 5):\n",
    "            error_a = i\n",
    "        elif round(aprox, 3) == round(real, 3):\n",
    "            error_b = i\n",
    "        elif round(aprox, 2) == round(real, 2):\n",
    "            error_c = i\n",
    "        elif round(aprox, 1) == round(real, 1):\n",
    "            error_d = i\n",
    "            break\n",
    "\n",
    "        \n",
    "    diff = real - aprox\n",
    "    res = \"real: \" + str(real) + \" aprox: \" + str(aprox) + \" diff: \" + str(diff) + \" error_a: \" + str(error_a) + \" error_b: \" + str(error_b) + \" error_c: \" + str(error_c) + \" error_d: \" + str(error_d) \n",
    "    return res\n",
    "if __name__ == \"__main__\":\n",
    "    x = float(input(\"Enter a real number: \"))\n",
    "    n = int(input(\"Enter an integer: \"))\n",
    "    res = taller4(x, n)\n",
    "    print(res)"
   ]
  },
  {
   "attachments": {},
   "cell_type": "markdown",
   "metadata": {},
   "source": [
    "Desarrollar un programa que determine si en una lista no existen elementos repetidos."
   ]
  },
  {
   "cell_type": "code",
   "execution_count": 3,
   "metadata": {},
   "outputs": [
    {
     "name": "stdout",
     "output_type": "stream",
     "text": [
      "Los elementos repetidos son: ['45']\n"
     ]
    }
   ],
   "source": [
    "# Inicializa una lista vacía llamada 'elementos_x' para almacenar los elementos ingresados por el usuario\n",
    "elementos_x = []\n",
    "# Inicializa una lista vacía llamada 'repetidos' para almacenar los elementos repetidos encontrados\n",
    "repetidos = []\n",
    "\n",
    "# Inicia un bucle infinito que se ejecutará hasta que el usuario decida detenerlo\n",
    "while True:\n",
    "    # Solicita al usuario que ingrese un elemento para la lista, uno por uno\n",
    "    elemento = input(\"Ingrese los elementos de la lista uno por uno. Cuando haya terminado, simplemente presione Enter.\")\n",
    "    # Verifica si el usuario ingresó una cadena vacía (presionó Enter sin ingresar nada)\n",
    "    if elemento == \"\":\n",
    "        # Si el usuario ingresó una cadena vacía, sale del bucle infinito\n",
    "        break\n",
    "    # Si el usuario ingresó un elemento, se agrega a la lista 'elementos_x'\n",
    "    elementos_x.append(elemento)\n",
    "\n",
    "# Itera sobre cada elemento en la lista 'elementos_x'\n",
    "for i in elementos_x:\n",
    "    # Verifica si el elemento 'i' aparece más de una vez en la lista 'elementos_x'\n",
    "    # y si 'i' no está en la lista 'repetidos' (para evitar duplicados en la lista 'repetidos')\n",
    "    if elementos_x.count(i) > 1 and i not in repetidos:\n",
    "        # Si se cumplen ambas condiciones, agrega el elemento 'i' a la lista 'repetidos'\n",
    "        repetidos.append(i)\n",
    "\n",
    "# Verifica si la lista 'repetidos' está vacía\n",
    "if len(repetidos) == 0:\n",
    "    # Si está vacía, imprime que no hay elementos repetidos en la lista\n",
    "    print(\"En esta lista no existen elementos repetidos\")\n",
    "else:\n",
    "    # Si no está vacía, imprime los elementos repetidos encontrados\n",
    "    print(\"Los elementos repetidos son:\", repetidos)\n"
   ]
  },
  {
   "attachments": {},
   "cell_type": "markdown",
   "metadata": {},
   "source": [
    "Desarrollar un programa que dadas dos listas determine que elementos tiene la primer lista que no tenga la segunda lista."
   ]
  },
  {
   "cell_type": "code",
   "execution_count": null,
   "metadata": {},
   "outputs": [],
   "source": [
    "'''\n",
    "Desarrollar un programa que dadas dos listas determine que elementos tiene la primer lista que no tenga la segunda lista.\n",
    "[list] --> [list]\n",
    ">>> listComp([1, 'Hola', -12.3 ,True], [11, -12.3, 'Hola', False])\n",
    ">>> [1, True]\n",
    "'''\n",
    "\n",
    "def listComp(lista1:list, lista2:list) -> list:\n",
    "\n",
    "    lista3 = [] # se crea una lista para guardar los elementos que no sean comunes entre las dos listas.\n",
    "    for elmt in lista1: # se itera por la lista1.\n",
    "        if elmt not in lista2: # si el elemento de la lista1 no está en la lista2, se agrega a lista3.\n",
    "            lista3.append(elmt)\n",
    "\n",
    "    return lista3\n",
    "\n",
    "if __name__ == \"__main__\":\n",
    "    lista1 = []\n",
    "    lista2 = []\n",
    "    n = int(input(\"Ingrese el número de elmentos que va a tener cada lista: \"))\n",
    "    for x in range(n):\n",
    "        elmt = input(\"Ingrese un elemento para la lista 1: \")\n",
    "        lista1.append(elmt)\n",
    "    for x in range(n):\n",
    "        elmt = input(\"Ingrese un elemento para la lista 2: \")\n",
    "        lista2.append(elmt)\n",
    "    res = listComp(lista1, lista2)\n",
    "    print(res)"
   ]
  },
  {
   "attachments": {},
   "cell_type": "markdown",
   "metadata": {},
   "source": [
    "Desarrollar un algoritmo que determine si una matriz es mágica. Se dice que una matriz cuadrada es mágica si la suma de cada una de sus filas, de cada una de sus columnas y de cada diagonal es igual."
   ]
  },
  {
   "cell_type": "code",
   "execution_count": 11,
   "metadata": {},
   "outputs": [
    {
     "name": "stdout",
     "output_type": "stream",
     "text": [
      "La matriz no es mágica.\n"
     ]
    }
   ],
   "source": [
    "def es_matriz_magica(matriz):\n",
    "    # La suma de la primera fila se usa como referencia para todas las demás sumas.\n",
    "    suma_referencia = sum(matriz[0])\n",
    "\n",
    "    # Comprueba las filas.\n",
    "    for fila in matriz:\n",
    "        if sum(fila) != suma_referencia:\n",
    "            return False\n",
    "\n",
    "    # Comprueba las columnas.\n",
    "    for i in range(len(matriz)):\n",
    "        if sum(fila[i] for fila in matriz) != suma_referencia:\n",
    "            return False\n",
    "\n",
    "    # Comprueba la diagonal principal.\n",
    "    if sum(matriz[i][i] for i in range(len(matriz))) != suma_referencia:\n",
    "        return False\n",
    "\n",
    "    # Comprueba la diagonal secundaria.\n",
    "    if sum(matriz[i][len(matriz)-i-1] for i in range(len(matriz))) != suma_referencia:\n",
    "        return False\n",
    "\n",
    "    return True\n",
    "\n",
    "def ingresar_matriz():\n",
    "    n = int(input(\"Ingrese el tamaño de la matriz cuadrada (n x n): \"))\n",
    "    matriz = []\n",
    "    for _ in range(n):\n",
    "        fila = list(map(int, input(\"Ingrese la matriz por filas:\").split()))\n",
    "        matriz.append(fila)\n",
    "    return matriz\n",
    "\n",
    "def main():\n",
    "    matriz = ingresar_matriz()\n",
    "    \n",
    "    if es_matriz_magica(matriz):\n",
    "        print(\"La matriz es mágica.\")\n",
    "    else:\n",
    "        print(\"La matriz no es mágica.\")\n",
    "\n",
    "if __name__ == \"__main__\":\n",
    "    main()"
   ]
  }
 ],
 "metadata": {
  "kernelspec": {
   "display_name": "Python 3",
   "language": "python",
   "name": "python3"
  },
  "language_info": {
   "codemirror_mode": {
    "name": "ipython",
    "version": 3
   },
   "file_extension": ".py",
   "mimetype": "text/x-python",
   "name": "python",
   "nbconvert_exporter": "python",
   "pygments_lexer": "ipython3",
   "version": "3.10.11"
  },
  "orig_nbformat": 4
 },
 "nbformat": 4,
 "nbformat_minor": 2
}
